{
  "nbformat": 4,
  "nbformat_minor": 0,
  "metadata": {
    "colab": {
      "provenance": []
    },
    "kernelspec": {
      "name": "python3",
      "display_name": "Python 3"
    },
    "language_info": {
      "name": "python"
    }
  },
  "cells": [
    {
      "cell_type": "markdown",
      "source": [
        "### Practical 1"
      ],
      "metadata": {
        "id": "k11am56n2tSW"
      }
    },
    {
      "cell_type": "markdown",
      "source": [
        "### AIM: Write a python code to create Merkle tree."
      ],
      "metadata": {
        "id": "YJhLRI1jR6Md"
      }
    },
    {
      "cell_type": "code",
      "source": [
        "import hashlib\n",
        "\n",
        "class MerkleTree:\n",
        "    def __init__(self, data):\n",
        "        self.data = data\n",
        "        self.tree = self._build_tree()\n",
        "\n",
        "    def _build_tree(self):\n",
        "        if len(self.data) % 2 != 0:\n",
        "            self.data.append(self.data[-1])  # Duplicate the last element for an even number of elements\n",
        "        tree = [hashlib.sha256(str(value).encode()).hexdigest() for value in self.data]\n",
        "        while len(tree) > 1:\n",
        "            tree = [hashlib.sha256((tree[i] + tree[i + 1]).encode()).hexdigest() for i in range(0, len(tree), 2)]\n",
        "        return tree\n",
        "\n",
        "    def get_root(self):\n",
        "        return self.tree[0]\n",
        "\n",
        "    def get_proof(self, index):\n",
        "        if index < 0 or index >= len(self.data):\n",
        "            raise ValueError(\"Index out of range\")\n",
        "        proof = []\n",
        "        currentIndex = index\n",
        "        for level in range(len(self.tree) // 2):\n",
        "            isRightChild = currentIndex % 2\n",
        "            siblingIndex = currentIndex + 1 if isRightChild else currentIndex - 1\n",
        "            proof.append((isRightChild, self.tree[siblingIndex]))\n",
        "            currentIndex = currentIndex // 2\n",
        "        return proof\n",
        "\n",
        "    def verify_proof(self, root, index, value, proof):\n",
        "        currentHash = hashlib.sha256(str(value).encode()).hexdigest()\n",
        "        for isRightChild, siblingHash in proof:\n",
        "            if isRightChild:\n",
        "                currentHash = hashlib.sha256((siblingHash + currentHash).encode()).hexdigest()\n",
        "            else:\n",
        "                currentHash = hashlib.sha256((currentHash + siblingHash).encode()).hexdigest()\n",
        "        return currentHash == root\n",
        "\n",
        "# Example usage:\n",
        "data = [\"Transaction 1\", \"Transaction 2\", \"Transaction 3\", \"Transaction 4\"]\n",
        "merkle_tree = MerkleTree(data)\n",
        "print(\"Merkle Tree Root:\", merkle_tree.get_root())\n",
        "\n",
        "# Verify proof for the first transaction\n",
        "index_to_verify = 0\n",
        "proof = merkle_tree.get_proof(index_to_verify)\n",
        "result = merkle_tree.verify_proof(merkle_tree.get_root(), index_to_verify, data[index_to_verify], proof)\n",
        "print(f\"Verification result for Transaction {index_to_verify + 1}: {result}\")\n"
      ],
      "metadata": {
        "id": "zs9jmt7p60WH"
      },
      "execution_count": null,
      "outputs": []
    },
    {
      "cell_type": "markdown",
      "source": [
        "### Practical 2"
      ],
      "metadata": {
        "id": "GSWkzQaI7AbH"
      }
    },
    {
      "cell_type": "markdown",
      "source": [
        "### AIM: Creation of Block."
      ],
      "metadata": {
        "id": "yvv7cBOES-CN"
      }
    },
    {
      "cell_type": "code",
      "source": [
        "def create_block(data, previous_hash=None):\n",
        "    block = {\n",
        "        'data': data,\n",
        "        'previous_hash': previous_hash,\n",
        "        'hash': hash(data + str(previous_hash))\n",
        "    }\n",
        "    return block\n",
        "\n",
        "block_data = \"Some data for the block\"\n",
        "previous_hash = \"Previous Block's hash\"\n",
        "my_block = create_block(data=block_data, previous_hash=previous_hash)\n",
        "print(f\"Block data: {my_block['data']}\")\n",
        "print(f\"Previous hash: {my_block['previous_hash']}\")\n",
        "print(f\"Block hash: {my_block['hash']}\")"
      ],
      "metadata": {
        "id": "KloBTv6YPZVU"
      },
      "execution_count": null,
      "outputs": []
    },
    {
      "cell_type": "code",
      "source": [
        "!pip install pycryptodome"
      ],
      "metadata": {
        "id": "jmEt-HfTcGB1"
      },
      "execution_count": null,
      "outputs": []
    },
    {
      "cell_type": "markdown",
      "source": [
        "# Practical 3"
      ],
      "metadata": {
        "id": "KzRT7cGO2nit"
      }
    },
    {
      "cell_type": "markdown",
      "source": [
        "### AIM -Create a simple client class that generates public key and private key by using built-in python technique RSA (Rivest–Shamir–Adleman) algorithm and test"
      ],
      "metadata": {
        "id": "cAoVddrJdGkf"
      }
    },
    {
      "cell_type": "code",
      "source": [
        "from cryptography.hazmat.backends import default_backend\n",
        "from cryptography.hazmat.primitives import hashes\n",
        "from cryptography.hazmat.primitives.asymmetric import rsa, padding\n",
        "\n",
        "class Client:\n",
        "    def __init__(self):\n",
        "        # Generate private and public keys\n",
        "        private_key = rsa.generate_private_key(\n",
        "            public_exponent=65537,\n",
        "            key_size=2048,\n",
        "            backend=default_backend()\n",
        "        )\n",
        "        self.private_key = private_key\n",
        "        self.public_key = private_key.public_key()\n",
        "\n",
        "    def encrypt_message(self, message):\n",
        "        # Encrypt the message using the public key\n",
        "        ciphertext = self.public_key.encrypt(\n",
        "            message.encode(),\n",
        "            padding.OAEP(\n",
        "                mgf=padding.MGF1(algorithm=hashes.SHA256()),\n",
        "                algorithm=hashes.SHA256(),\n",
        "                label=None\n",
        "            )\n",
        "        )\n",
        "        return ciphertext\n",
        "\n",
        "    def decrypt_message(self, ciphertext):\n",
        "        # Decrypt the message using the private key\n",
        "        decrypted_message = self.private_key.decrypt(\n",
        "            ciphertext,\n",
        "            padding.OAEP(\n",
        "                mgf=padding.MGF1(algorithm=hashes.SHA256()),\n",
        "                algorithm=hashes.SHA256(),\n",
        "                label=None\n",
        "            )\n",
        "        )\n",
        "        return decrypted_message.decode()\n",
        "\n",
        "# Test the Client class\n",
        "if __name__ == \"__main__\":\n",
        "    # Create a client\n",
        "    client = Client()\n",
        "\n",
        "    # Display public and private keys\n",
        "    print(\"Public Key:\", client.public_key)\n",
        "    print(\"Private Key:\", client.private_key)\n",
        "\n",
        "    # Message to be encrypted\n",
        "    original_message = \"Hello, RSA!\"\n",
        "\n",
        "    # Encrypt and display the encrypted message\n",
        "    encrypted_message = client.encrypt_message(original_message)\n",
        "    print(\"Encrypted Message:\", encrypted_message)\n",
        "\n",
        "    # Decrypt and display the decrypted message\n",
        "    decrypted_message = client.decrypt_message(encrypted_message)\n",
        "    print(\"Decrypted Message:\", decrypted_message)\n"
      ],
      "metadata": {
        "id": "KRsYP3hE7-uH"
      },
      "execution_count": null,
      "outputs": []
    },
    {
      "cell_type": "markdown",
      "source": [
        "### Create a transaction class to send and receive money and test it."
      ],
      "metadata": {
        "id": "G11KgwDj16wv"
      }
    },
    {
      "cell_type": "code",
      "source": [
        "class Transaction:\n",
        "    def __init__(self, sender, receiver, amount):\n",
        "        self.sender = sender\n",
        "        self.receiver = receiver\n",
        "        self.amount = amount\n",
        "        self.status = \"Pending\"\n",
        "\n",
        "    def send_money(self):\n",
        "        if self.status == \"Pending\":\n",
        "            # Simulate the process of sending money\n",
        "            print(f\"{self.sender} is sending {self.amount} to {self.receiver}.\")\n",
        "            self.status = \"Completed\"\n",
        "            print(\"Transaction completed successfully.\")\n",
        "        else:\n",
        "            print(\"Transaction has already been completed or canceled.\")\n",
        "\n",
        "    def receive_money(self):\n",
        "        if self.status == \"Completed\":\n",
        "            # Simulate the process of receiving money\n",
        "            print(f\"{self.receiver} received {self.amount} from {self.sender}.\")\n",
        "            print(\"Money received successfully.\")\n",
        "        else:\n",
        "            print(\"Transaction is pending or has been canceled.\")\n",
        "\n",
        "# Test the Transaction class\n",
        "if __name__ == \"__main__\":\n",
        "    # Create a transaction\n",
        "    sender_name = \"Alice\"\n",
        "    receiver_name = \"Bob\"\n",
        "    transaction_amount = 100.0\n",
        "    transaction = Transaction(sender_name, receiver_name, transaction_amount)\n",
        "\n",
        "    # Display transaction details\n",
        "    print(\"Transaction Details:\")\n",
        "    print(f\"Sender: {transaction.sender}\")\n",
        "    print(f\"Receiver: {transaction.receiver}\")\n",
        "    print(f\"Amount: {transaction.amount}\")\n",
        "    print(f\"Status: {transaction.status}\")\n",
        "\n",
        "    # Send money\n",
        "    transaction.send_money()\n",
        "\n",
        "    # Display updated status\n",
        "    print(f\"Updated Status: {transaction.status}\")\n",
        "\n",
        "    # Receive money\n",
        "    transaction.receive_money()\n"
      ],
      "metadata": {
        "id": "kunRPGqacA0C"
      },
      "execution_count": null,
      "outputs": []
    },
    {
      "cell_type": "markdown",
      "source": [
        "### Create multiple transactions and display them."
      ],
      "metadata": {
        "id": "2uxGQX6V81Bn"
      }
    },
    {
      "cell_type": "code",
      "source": [
        "\n",
        "class Transaction:\n",
        "    def __init__(self, sender, receiver, amount):\n",
        "        self.sender = sender\n",
        "        self.receiver = receiver\n",
        "        self.amount = amount\n",
        "        self.status = \"Pending\"\n",
        "\n",
        "    def send_money(self):\n",
        "        if self.status == \"Pending\":\n",
        "            print(f\"{self.sender} is sending {self.amount} to {self.receiver}.\")\n",
        "            self.status = \"Completed\"\n",
        "            print(\"Transaction completed successfully.\")\n",
        "        else:\n",
        "            print(\"Transaction has already been completed or canceled.\")\n",
        "\n",
        "    def receive_money(self):\n",
        "        if self.status == \"Completed\":\n",
        "            print(f\"{self.receiver} received {self.amount} from {self.sender}.\")\n",
        "            print(\"Money received successfully.\")\n",
        "        else:\n",
        "            print(\"Transaction is pending or has been canceled.\")\n",
        "\n",
        "# Create multiple transactions\n",
        "transactions = [\n",
        "    Transaction(sender=\"Alice\", receiver=\"Bob\", amount=50.0),\n",
        "    Transaction(sender=\"Bob\", receiver=\"Charlie\", amount=30.0),\n",
        "    Transaction(sender=\"Charlie\", receiver=\"Alice\", amount=20.0),\n",
        "]\n",
        "\n",
        "# Display details and perform transactions\n",
        "for idx, transaction in enumerate(transactions, start=1):\n",
        "    print(f\"\\nTransaction {idx} Details:\")\n",
        "    print(f\"Sender: {transaction.sender}\")\n",
        "    print(f\"Receiver: {transaction.receiver}\")\n",
        "    print(f\"Amount: {transaction.amount}\")\n",
        "    print(f\"Status: {transaction.status}\")\n",
        "\n",
        "    # Perform transactions\n",
        "    transaction.send_money()\n",
        "    transaction.receive_money()\n"
      ],
      "metadata": {
        "id": "CMw3Kvs11_XO"
      },
      "execution_count": null,
      "outputs": []
    },
    {
      "cell_type": "markdown",
      "source": [
        "### Creating blockchain, a genesis block and execute it."
      ],
      "metadata": {
        "id": "p5UxqOv09P9o"
      }
    },
    {
      "cell_type": "code",
      "source": [
        "import hashlib\n",
        "import time\n",
        "\n",
        "class Block:\n",
        "    def __init__(self, index, data, previous_hash=None):\n",
        "        self.index = index\n",
        "        self.timestamp = time.time()  # Using the standard Unix timestamp format\n",
        "        self.data = data\n",
        "        self.previous_hash = previous_hash\n",
        "        self.hash = self.calculate_hash()\n",
        "\n",
        "    def calculate_hash(self):\n",
        "        data_string = str(self.index) + str(self.timestamp) + str(self.data) + str(self.previous_hash)\n",
        "        return hashlib.sha256(data_string.encode()).hexdigest()\n",
        "\n",
        "class Blockchain:\n",
        "    def __init__(self):\n",
        "        self.chain = [self.create_genesis_block()]\n",
        "\n",
        "    def create_genesis_block(self):\n",
        "        return Block(index=0, data=\"Genesis Block\")\n",
        "\n",
        "    def add_block(self, data):\n",
        "        previous_block = self.chain[-1]\n",
        "        new_block_index = previous_block.index + 1\n",
        "        new_block = Block(index=new_block_index, data=data, previous_hash=previous_block.hash)\n",
        "        self.chain.append(new_block)\n",
        "\n",
        "    def display_chain(self):\n",
        "        for block in self.chain:\n",
        "            print(f\"Block #{block.index}\")\n",
        "            print(f\"Timestamp: {time.strftime('%Y-%m-%d %H:%M:%S', time.gmtime(block.timestamp))}\")\n",
        "            print(f\"Data: {block.data}\")\n",
        "            print(f\"Previous Hash: {block.previous_hash}\")\n",
        "            print(f\"Hash: {block.hash}\")\n",
        "            print(\"\\n\")\n",
        "\n",
        "# Create a blockchain and add blocks\n",
        "blockchain = Blockchain()\n",
        "blockchain.add_block(\"Transaction 1\")\n",
        "blockchain.add_block(\"Transaction 2\")\n",
        "blockchain.add_block(\"Transaction 3\")\n",
        "\n",
        "# Display the blockchain\n",
        "blockchain.display_chain()\n"
      ],
      "metadata": {
        "id": "-bZ9iAUq9JgP"
      },
      "execution_count": null,
      "outputs": []
    },
    {
      "cell_type": "markdown",
      "source": [
        "### Create a mining function and test it."
      ],
      "metadata": {
        "id": "XgSmo-pc-JgA"
      }
    },
    {
      "cell_type": "code",
      "source": [
        "import hashlib\n",
        "import time\n",
        "\n",
        "class Block:\n",
        "    def __init__(self, index, data, previous_hash=None):\n",
        "        self.index = index\n",
        "        self.timestamp = time.time()  # Using the standard Unix timestamp format\n",
        "        self.data = data\n",
        "        self.previous_hash = previous_hash\n",
        "        self.hash = self.calculate_hash()\n",
        "\n",
        "    def calculate_hash(self):\n",
        "        data_string = str(self.index) + str(self.timestamp) + str(self.data) + str(self.previous_hash)\n",
        "        return hashlib.sha256(data_string.encode()).hexdigest()\n",
        "\n",
        "class Blockchain:\n",
        "    def __init__(self):\n",
        "        self.chain = [self.create_genesis_block()]\n",
        "\n",
        "    def create_genesis_block(self):\n",
        "        return Block(index=0, data=\"Genesis Block\")\n",
        "\n",
        "    def add_block(self, data):\n",
        "        previous_block = self.chain[-1]\n",
        "        new_block_index = previous_block.index + 1\n",
        "        new_block = Block(index=new_block_index, data=data, previous_hash=previous_block.hash)\n",
        "        self.chain.append(new_block)\n",
        "\n",
        "    def display_chain(self):\n",
        "        for block in self.chain:\n",
        "            print(f\"Block #{block.index}\")\n",
        "            print(f\"Timestamp: {time.strftime('%Y-%m-%d %H:%M:%S', time.gmtime(block.timestamp))}\")\n",
        "            print(f\"Data: {block.data}\")\n",
        "            print(f\"Previous Hash: {block.previous_hash}\")\n",
        "            print(f\"Hash: {block.hash}\")\n",
        "            print(\"\\n\")\n",
        "\n",
        "# Create a blockchain and add blocks\n",
        "blockchain = Blockchain()\n",
        "blockchain.add_block(\"Transaction 1\")\n",
        "blockchain.add_block(\"Transaction 2\")\n",
        "blockchain.add_block(\"Transaction 3\")\n",
        "\n",
        "# Display the blockchain\n",
        "blockchain.display_chain()\n"
      ],
      "metadata": {
        "id": "fDQ6oyG39quv"
      },
      "execution_count": null,
      "outputs": []
    },
    {
      "cell_type": "markdown",
      "source": [
        "### Add blocks to the miner and dump the blockchain"
      ],
      "metadata": {
        "id": "AooiYSFT-Zkn"
      }
    },
    {
      "cell_type": "code",
      "source": [
        "import hashlib\n",
        "import time\n",
        "\n",
        "class Block:\n",
        "    def __init__(self, index, data, previous_hash=None, timestamp=None, nonce=0):\n",
        "        self.index = index\n",
        "        self.timestamp = timestamp or time.time()\n",
        "        self.data = data\n",
        "        self.previous_hash = previous_hash\n",
        "        self.nonce = nonce\n",
        "        self.hash = self.calculate_hash()\n",
        "\n",
        "    def calculate_hash(self):\n",
        "        data_string = str(self.index) + str(self.timestamp) + str(self.data) + str(self.previous_hash) + str(self.nonce)\n",
        "        return hashlib.sha256(data_string.encode()).hexdigest()\n",
        "\n",
        "class Blockchain:\n",
        "    def __init__(self):\n",
        "        self.chain = [self.create_genesis_block()]\n",
        "\n",
        "    def create_genesis_block(self):\n",
        "        return Block(index=0, data=\"Genesis Block\")\n",
        "\n",
        "    def add_block(self, data):\n",
        "        previous_block = self.chain[-1]\n",
        "        new_block_index = previous_block.index + 1\n",
        "        new_block = Block(index=new_block_index, data=data, previous_hash=previous_block.hash)\n",
        "        self.mine_block(new_block)\n",
        "        self.chain.append(new_block)\n",
        "\n",
        "    def mine_block(self, block):\n",
        "        difficulty = 2  # Set the difficulty level (number of leading zeros)\n",
        "        while not self.is_valid_proof(block, difficulty):\n",
        "            block.nonce += 1\n",
        "            block.hash = block.calculate_hash()\n",
        "        print(f\"Block #{block.index} mined: Nonce = {block.nonce}, Hash = {block.hash}\")\n",
        "\n",
        "    def is_valid_proof(self, block, difficulty):\n",
        "        return block.hash[:difficulty] == '0' * difficulty\n",
        "\n",
        "    def display_chain(self):\n",
        "        for block in self.chain:\n",
        "            print(f\"Block #{block.index}\")\n",
        "            print(f\"Timestamp: {time.strftime('%Y-%m-%d %H:%M:%S', time.gmtime(block.timestamp))}\")\n",
        "            print(f\"Data: {block.data}\")\n",
        "            print(f\"Previous Hash: {block.previous_hash}\")\n",
        "            print(f\"Nonce: {block.nonce}\")\n",
        "            print(f\"Hash: {block.hash}\")\n",
        "            print(\"\\n\")\n",
        "\n",
        "class Miner:\n",
        "    def __init__(self, blockchain):\n",
        "        self.blockchain = blockchain\n",
        "\n",
        "    def mine_blocks(self, data_list):\n",
        "        for data in data_list:\n",
        "            self.blockchain.add_block(data)\n",
        "\n",
        "# Test the mining function and display the blockchain\n",
        "blockchain = Blockchain()\n",
        "miner = Miner(blockchain)\n",
        "\n",
        "# Add blocks to the miner\n",
        "miner_data = [\"Transaction 1\", \"Transaction 2\", \"Transaction 3\", \"Transaction 4\", \"Transaction 5\"]\n",
        "miner.mine_blocks(miner_data)\n",
        "\n",
        "# Display the entire blockchain\n",
        "blockchain.display_chain()\n"
      ],
      "metadata": {
        "id": "r_TxhZIC-NC2"
      },
      "execution_count": null,
      "outputs": []
    },
    {
      "cell_type": "markdown",
      "source": [
        "### PRACTICAL NO. 5"
      ],
      "metadata": {
        "id": "JApIZZAZ_GQw"
      }
    },
    {
      "cell_type": "markdown",
      "source": [
        "### Write a python program to implement mining using blockchain."
      ],
      "metadata": {
        "id": "qoXCxqhN_rng"
      }
    },
    {
      "cell_type": "code",
      "source": [
        "import hashlib\n",
        "from datetime import datetime\n",
        "\n",
        "class Block:\n",
        "    def __init__(self, index, previous_hash, timestamp, data, hash):\n",
        "        self.index = index\n",
        "        self.previous_hash = previous_hash\n",
        "        self.timestamp = timestamp\n",
        "        self.data = data\n",
        "        self.hash = hash\n",
        "\n",
        "def calculate_hash(index, previous_hash, timestamp, data):\n",
        "    value = str(index) + str(previous_hash) + str(timestamp) + str(data)\n",
        "    return hashlib.sha256(value.encode()).hexdigest()\n",
        "\n",
        "def create_genesis_block():\n",
        "    # Genesis block is the first block in the blockchain\n",
        "    return Block(0, \"0\", datetime.now(), \"Genesis Block\", calculate_hash(0, \"0\", datetime.now(), \"Genesis Block\"))\n",
        "\n",
        "def create_new_block(previous_block, data):\n",
        "    index = previous_block.index + 1\n",
        "    timestamp = datetime.now()\n",
        "    hash = calculate_hash(index, previous_block.hash, timestamp, data)\n",
        "    return Block(index, previous_block.hash, timestamp, data, hash)\n",
        "\n",
        "def mine_block(previous_block, data, difficulty):\n",
        "    new_block = create_new_block(previous_block, data)\n",
        "    prefix = '0' * difficulty\n",
        "    while new_block.hash[:difficulty] != prefix:\n",
        "        new_block.timestamp = datetime.now()\n",
        "        new_block.hash = calculate_hash(new_block.index, new_block.previous_hash, new_block.timestamp, new_block.data)\n",
        "    print(\"Block mined:\", new_block.hash)\n",
        "    return new_block\n",
        "\n",
        "if __name__ == \"__main__\":\n",
        "    difficulty_level = 4  # Adjust the difficulty level as needed\n",
        "    blockchain = [create_genesis_block()]\n",
        "    previous_block = blockchain[0]\n",
        "\n",
        "    # Simulate mining multiple blocks\n",
        "    for i in range(1, 5):\n",
        "        new_data = f\"Transaction data for Block {i}\"\n",
        "        previous_block = mine_block(previous_block, new_data, difficulty_level)\n",
        "        blockchain.append(previous_block)\n"
      ],
      "metadata": {
        "id": "8Jf7cBkF-ypP"
      },
      "execution_count": null,
      "outputs": []
    },
    {
      "cell_type": "code",
      "source": [],
      "metadata": {
        "id": "Td5mVbmE_tjJ"
      },
      "execution_count": null,
      "outputs": []
    }
  ]
}